{
 "cells": [
  {
   "cell_type": "markdown",
   "metadata": {},
   "source": [
    "## Please run all the cells below by going to Cell>Run All"
   ]
  },
  {
   "cell_type": "code",
   "execution_count": null,
   "metadata": {},
   "outputs": [],
   "source": [
    "# create a folder named 'data' inside the folder the notebook file\n",
    "import pandas as pd\n",
    "import numpy as np\n",
    "import seaborn as sns\n",
    "import matplotlib.pyplot as plt\n",
    "path ='C:\\Working\\Github\\Dataset\\Application'\n",
    "\n",
    "application_train=pd.read_csv(path+'/application_data.csv')\n",
    "pd.options.display.max_columns =None"
   ]
  },
  {
   "cell_type": "markdown",
   "metadata": {},
   "source": [
    "# Current Application"
   ]
  },
  {
   "cell_type": "markdown",
   "metadata": {},
   "source": [
    "# Understanding data, counts, and find null values"
   ]
  },
  {
   "cell_type": "code",
   "execution_count": null,
   "metadata": {
    "scrolled": false
   },
   "outputs": [],
   "source": [
    "application_train.head()"
   ]
  },
  {
   "cell_type": "code",
   "execution_count": null,
   "metadata": {
    "scrolled": false
   },
   "outputs": [],
   "source": [
    "application_train.info(verbose=True,null_counts=True)"
   ]
  },
  {
   "cell_type": "markdown",
   "metadata": {},
   "source": [
    "**The info and head of the data frame, it looks like there is not type coversion required and all seems OK"
   ]
  },
  {
   "cell_type": "code",
   "execution_count": null,
   "metadata": {},
   "outputs": [],
   "source": [
    "print('shape ',application_train.shape)\n",
    "print('Total records is {0}, and total columns is {1}'.format(application_train.shape[0],application_train.shape[1]))\n",
    "print('Total float type columns ={0} \\ntotal integer type columns ={1} \\nTotal object type columns ={2}'.format(application_train.dtypes.value_counts()[0],application_train.dtypes.value_counts()[1],application_train.dtypes.value_counts()[2]))"
   ]
  },
  {
   "cell_type": "markdown",
   "metadata": {},
   "source": [
    "with 106 numeric and 16 categorial variables"
   ]
  },
  {
   "cell_type": "markdown",
   "metadata": {},
   "source": [
    "## Computing Class Imbalance using Target variable"
   ]
  },
  {
   "cell_type": "code",
   "execution_count": null,
   "metadata": {},
   "outputs": [],
   "source": [
    "print('Percentage loan applications that were paid back ', round(100*sum(application_train.TARGET==0)/len(application_train),2),'%')\n",
    "print('Percentage loan applications that were not paid back ', round(100*sum(application_train.TARGET==1)/len(application_train),2),'%')"
   ]
  },
  {
   "cell_type": "code",
   "execution_count": null,
   "metadata": {
    "scrolled": true
   },
   "outputs": [],
   "source": [
    "# Calculate the percentage of 1s over 0s to see ratio of 1s to 0s\n",
    "imbalance=100*application_train['TARGET'].value_counts()/application_train.shape[0]\n",
    "#Print imbalance\n",
    "print(imbalance[1])"
   ]
  },
  {
   "cell_type": "code",
   "execution_count": null,
   "metadata": {},
   "outputs": [],
   "source": [
    "sns.countplot(application_train.TARGET)\n",
    "plt.xlabel('TARGET')\n",
    "plt.ylabel(\"# of APPLICATIONS\")\n",
    "plt.title('DISTRIBUTION OF defaulters (1) vs non-defaults (0)')\n",
    "plt.show();"
   ]
  },
  {
   "cell_type": "markdown",
   "metadata": {},
   "source": [
    "##### The data is  highly imbalanced as ```1s``` compared to ```0s``` which is only about 9% of ```0s```.\n",
    "##### There are more than 250000 applications able to repay the loan but there are about 2500 applications with defaults"
   ]
  },
  {
   "cell_type": "markdown",
   "metadata": {},
   "source": [
    "# Data Cleaning"
   ]
  },
  {
   "cell_type": "markdown",
   "metadata": {},
   "source": [
    "### 1. Information about the data, nulls,uniques"
   ]
  },
  {
   "cell_type": "code",
   "execution_count": null,
   "metadata": {},
   "outputs": [],
   "source": [
    "pd.set_option('display.max_rows', application_train.shape[0]+1)\n",
    "\n",
    "#calcualte nulls, percent of nulls,data type,unique,total records, etc\n",
    "application_train2=application_train.agg(['count','nunique']).T\n",
    "application_train2['nulls']=application_train.isnull().sum()\n",
    "application_train2['percent']=(100*application_train.isnull().sum())/len(application_train)\n",
    "application_train2['datatype']=application_train.dtypes"
   ]
  },
  {
   "cell_type": "code",
   "execution_count": null,
   "metadata": {},
   "outputs": [],
   "source": [
    "application_train2.sort_values(by='percent',ascending=False)"
   ]
  },
  {
   "cell_type": "markdown",
   "metadata": {},
   "source": [
    "### 1. Excluding columns with null values"
   ]
  },
  {
   "cell_type": "code",
   "execution_count": null,
   "metadata": {
    "scrolled": true
   },
   "outputs": [],
   "source": [
    "sum(application_train2['percent']>=14)/application_train2.shape[0]*100"
   ]
  },
  {
   "cell_type": "markdown",
   "metadata": {},
   "source": [
    "   1. Out of **122** columns, **42** percent of columns have 14 % or more nulls\n",
    "   2. All columns with 14% or more null values excluded in the following data frame"
   ]
  },
  {
   "cell_type": "markdown",
   "metadata": {},
   "source": [
    "### 2. Treating columns having null values between 0 and 14%"
   ]
  },
  {
   "cell_type": "code",
   "execution_count": null,
   "metadata": {
    "scrolled": true
   },
   "outputs": [],
   "source": [
    "df_less_than_14=application_train2[application_train2.percent<14]\n",
    "# sort descending the percentage column to find columns with highest and lowest null values\n",
    "df_less_than_14[df_less_than_14.sort_values(by='percent', ascending=False)['percent']>0 ]"
   ]
  },
  {
   "cell_type": "markdown",
   "metadata": {},
   "source": [
    "\n",
    "1. AMT_ANNUITY<br>\n",
    "We will remove null values because 12 nulls is not much data and will not affect the overall accuracy of data\n",
    "2. AMT_GOODS_PRICE<br>\n",
    "Impute this column with median values\n",
    "\n",
    "3. NAME_TYPE_SUITE<br>\n",
    "Imputer the value to unknown although not much but it is a data quality issues\n",
    "\n",
    "4. CNT_FAM_MEMBERS<br>\n",
    "Impute this with mode value or remove the nulls\n",
    "\n",
    "### Impute the following as unknow since the phone is not known\n",
    "1. DAYS_LAST_PHONE_CHANGE \n",
    "\n",
    "#### remove nulls for the following since the nulls are very few \n",
    "1. OBS_30_CNT_SOCIAL_CIRCLE\n",
    "2. DEF_30_CNT_SOCIAL_CIRCLE\n",
    "3. OBS_60_CNT_SOCIAL_CIRCLE\n",
    "4. DEF_60_CNT_SOCIAL_CIRCLE\n",
    "5. DAYS_LAST_PHONE_CHANGE\n",
    "\n",
    "#### Looks like categorial variable and we Impute the missing value of the following with 0 to indicate no enquiries \n",
    "1. AMT_REQ_CREDIT_BUREAU_HOUR\n",
    "2. AMT_REQ_CREDIT_BUREAU_DAY\n",
    "3. AMT_REQ_CREDIT_BUREAU_WEEK\n",
    "4. AMT_REQ_CREDIT_BUREAU_MON\n",
    "5. AMT_REQ_CREDIT_BUREAU_QRT\n",
    "6. AMT_REQ_CREDIT_BUREAU_YEAR\n"
   ]
  },
  {
   "cell_type": "markdown",
   "metadata": {},
   "source": [
    "### 3.  Columns to keep for analysis\n",
    "keep all columns having less than 13% missing values and also keep OCCUPATION_TYPE since it had 31% missing values I am interested to keep this column"
   ]
  },
  {
   "cell_type": "code",
   "execution_count": null,
   "metadata": {},
   "outputs": [],
   "source": [
    "columnstokeep=list(application_train2[application_train2.percent<14].index)\n",
    "print(columnstokeep)\n",
    "print(len(columnstokeep))\n",
    "columnstokeep.append('OCCUPATION_TYPE')\n",
    "#totally 65 columns are extracted but will do the analysis "
   ]
  },
  {
   "cell_type": "code",
   "execution_count": null,
   "metadata": {
    "scrolled": false
   },
   "outputs": [],
   "source": [
    "#exclude columsn starting with FLAG_DOCUMENT_\n",
    "colltokeep=[]\n",
    "for i in columnstokeep:\n",
    "    if i[0:14]!='FLAG_DOCUMENT_':\n",
    "        colltokeep.append(i)       \n",
    "        \n",
    "print(colltokeep)"
   ]
  },
  {
   "cell_type": "code",
   "execution_count": null,
   "metadata": {
    "scrolled": true
   },
   "outputs": [],
   "source": [
    "finall_application_data=application_train[colltokeep]"
   ]
  },
  {
   "cell_type": "code",
   "execution_count": null,
   "metadata": {
    "scrolled": false
   },
   "outputs": [],
   "source": [
    "# now we have 52 column to go\n",
    "finall_application_data.shape"
   ]
  },
  {
   "cell_type": "markdown",
   "metadata": {},
   "source": [
    "#### Listing columns by object type\n",
    "#### 1. Float"
   ]
  },
  {
   "cell_type": "code",
   "execution_count": null,
   "metadata": {
    "scrolled": true
   },
   "outputs": [],
   "source": [
    "print('Total columns ={0} \\ncolumns = {1}'.format(len(finall_application_data.select_dtypes('float64').columns),finall_application_data.select_dtypes('float64').columns))"
   ]
  },
  {
   "cell_type": "markdown",
   "metadata": {},
   "source": [
    "#### 2. Object"
   ]
  },
  {
   "cell_type": "code",
   "execution_count": null,
   "metadata": {},
   "outputs": [],
   "source": [
    "print('Total columns ={0} \\ncolumns = {1}'.format(len(finall_application_data.select_dtypes('object').columns),finall_application_data.select_dtypes('object').columns))"
   ]
  },
  {
   "cell_type": "markdown",
   "metadata": {},
   "source": [
    "#### Int64"
   ]
  },
  {
   "cell_type": "code",
   "execution_count": null,
   "metadata": {
    "scrolled": true
   },
   "outputs": [],
   "source": [
    "print('Total columns ={0} \\ncolumns = {1}'.format(len(finall_application_data.select_dtypes('int64').columns),finall_application_data.select_dtypes('int64').columns))"
   ]
  },
  {
   "cell_type": "markdown",
   "metadata": {},
   "source": [
    "  Now there are 12 object and 40 numeric types"
   ]
  },
  {
   "cell_type": "markdown",
   "metadata": {},
   "source": [
    "### Separate defaulters and non-defaulters for analysis"
   ]
  },
  {
   "cell_type": "code",
   "execution_count": null,
   "metadata": {
    "scrolled": true
   },
   "outputs": [],
   "source": [
    "defaulters_data=finall_application_data[finall_application_data.TARGET==1]\n",
    "print(len(defaulters_data))\n",
    "non_defaulters_data=finall_application_data[finall_application_data.TARGET==0]\n",
    "print(len(non_defaulters_data))"
   ]
  },
  {
   "cell_type": "markdown",
   "metadata": {},
   "source": [
    "# Analysis"
   ]
  },
  {
   "cell_type": "markdown",
   "metadata": {},
   "source": [
    "### 1. Univariate analysis for categorial variables"
   ]
  },
  {
   "cell_type": "code",
   "execution_count": null,
   "metadata": {},
   "outputs": [],
   "source": [
    "#custom function for creating barplot\n",
    "def Target_univariate_analysis_bar(x,rotate_label=False):\n",
    "    fig, (ax1, ax2) = plt.subplots(nrows=1,ncols=2, figsize=(14,5),dpi=1200)\n",
    "    \n",
    "    sns1=sns.countplot(ax=ax1,x=non_defaulters_data[x], data=non_defaulters_data, order= non_defaulters_data[x].value_counts().index)\n",
    "    ax1.set_xlabel('%s' %x)\n",
    "    ax1.set_ylabel(\"Number of applications\")\n",
    "    ax1.set_title('Distribution of '+ '%s' %x +' for Non-Defaulters',  fontsize=12,fontweight=10)\n",
    "    if(rotate_label):\n",
    "        sns1.set_xticklabels(sns1.get_xticklabels(),rotation=90)\n",
    "        \n",
    "    sns2=sns.countplot(ax=ax2,x=defaulters_data[x], data=defaulters_data, order= defaulters_data[x].value_counts().index)\n",
    "    ax2.set_title('Distribution of '+ '%s' %x +' for Defaulters', fontsize=12,fontweight=10)\n",
    "    ax2.set_xlabel('%s' %x)\n",
    "    ax2.set_ylabel(\"# of applications\")\n",
    "    if(rotate_label):\n",
    "        sns2.set_xticklabels(sns2.get_xticklabels(),rotation=90)\n",
    "        \n",
    "    # remove spines from the plots\n",
    "    sns.despine(left=True, bottom=True, right=True)\n",
    "    plt.show()"
   ]
  },
  {
   "cell_type": "code",
   "execution_count": null,
   "metadata": {},
   "outputs": [],
   "source": [
    "#custom function for creating pie plot\n",
    "def Target_univariate_analysis_pie(x):\n",
    "    fig, (ax1, ax2) = plt.subplots(nrows=1,ncols=2, figsize=(15,5),dpi=1200)\n",
    "    def func(pct, allvals):\n",
    "        absolute = int(pct/100.*np.sum(allvals))\n",
    "        return \"{:.1f}%\".format(pct)\n",
    "\n",
    "    # Chart for non-defaulters\n",
    "    data=list(non_defaulters_data[x].value_counts())    \n",
    "    labels=list(non_defaulters_data[x].value_counts().index)\n",
    "    \n",
    "    wedges, texts, autotexts = ax1.pie(data, autopct=lambda pct: func(pct, data),\n",
    "                                      textprops=dict(color=\"black\"),pctdistance=0.6)\n",
    "    ax1.legend(wedges, labels,\n",
    "              title=x,\n",
    "              loc=\"upper left\",\n",
    "              bbox_to_anchor=(1, 0, 2, 0.5))\n",
    "    plt.setp(autotexts, size=11, weight=\"bold\")\n",
    "    ax1.set_title('Distribution of '+ '%s' %x +' for \\nNon-Defaulters',fontsize=10,color='black')\n",
    "    ax1.axis('equal')\n",
    "    \n",
    "    # Chart for defaulters\n",
    "    data_defaulters=list(defaulters_data[x].value_counts())    \n",
    "    labels_defaulters=list(defaulters_data[x].value_counts().index)\n",
    "    \n",
    "    wedges, texts, autotexts = ax2.pie(data_defaulters, autopct=lambda pct: func(pct, data),\n",
    "                                      textprops=dict(color=\"black\"))\n",
    "    ax2.legend(wedges, labels,\n",
    "          title=x,\n",
    "          loc=\"upper left\",\n",
    "          bbox_to_anchor=(1, 0, 3, 0.5))\n",
    "    \n",
    "    plt.setp(autotexts, size=11, weight=\"bold\")\n",
    "    ax2.set_title('Distribution of '+ '%s' %x +' for \\nDefaulters',fontsize=10,color='black')\n",
    "    ax2.axis('equal')\n",
    "    \n",
    "    plt.show()"
   ]
  },
  {
   "cell_type": "code",
   "execution_count": null,
   "metadata": {},
   "outputs": [],
   "source": [
    "#custom function for creating pie plot\n",
    "def target_univariate_anlysis_pie2(x,fontcolor,colors=[]):\n",
    "    plt.figure(figsize=(10,8),dpi=1200)\n",
    "    data_non_defaulters=list(non_defaulters_data[x].value_counts())    \n",
    "    labels_non_defaulters=list(non_defaulters_data[x].value_counts().index)\n",
    "    ax1 = plt.subplot2grid((2,2),(0,0))\n",
    "\n",
    "    plt.pie(data_non_defaulters,labels=labels_non_defaulters,autopct='%1.1f%%', shadow=False,textprops={'fontsize':8,'color':fontcolor},colors=colors)\n",
    "    plt.axis('equal')\n",
    "    plt.title('Distribution of '+ '%s' %x +' for \\nNon-Defaulters',fontsize=10,color='black')\n",
    "\n",
    "    data_defaulters=list(defaulters_data[x].value_counts())    \n",
    "    labels_defaulters=list(defaulters_data[x].value_counts().index)\n",
    "    ax2 = plt.subplot2grid((2,2),(0,1))\n",
    "    plt.pie(data_defaulters,labels=labels_defaulters,autopct='%1.1f%%', shadow=False,textprops={'fontsize':8,'color':fontcolor},colors=colors)\n",
    "    plt.title('Distribution of '+ '%s' %x +' for \\nDefaulters',fontsize=10,color='black')\n",
    "    \n",
    "    plt.show()"
   ]
  },
  {
   "cell_type": "markdown",
   "metadata": {},
   "source": [
    "#### 1. NAME_CONTRACT_TYPE\n",
    "**Analysis:**<br>\n",
    "Here, the Cash Loans are far much higher than Revolving Loans for both defaulters and non-defaulters<br>"
   ]
  },
  {
   "cell_type": "code",
   "execution_count": null,
   "metadata": {
    "scrolled": true
   },
   "outputs": [],
   "source": [
    "Target_univariate_analysis_bar('NAME_CONTRACT_TYPE')"
   ]
  },
  {
   "cell_type": "code",
   "execution_count": null,
   "metadata": {
    "scrolled": false
   },
   "outputs": [],
   "source": [
    "target_univariate_anlysis_pie2('NAME_CONTRACT_TYPE','black',['green','orange'])"
   ]
  },
  {
   "cell_type": "markdown",
   "metadata": {},
   "source": [
    "#### 2. CODE_GENDER\n",
    "**Analysis:**<br>\n",
    "Here, Female applicants are receiving more loan than male applicants. While in percentage of male defaulter applicants are more than percentage of male in non-defaulters.<br> See following pie chart"
   ]
  },
  {
   "cell_type": "code",
   "execution_count": null,
   "metadata": {},
   "outputs": [],
   "source": [
    "# Analysis of CODE_GENDER\n",
    "Target_univariate_analysis_bar('CODE_GENDER')\n",
    "sum(non_defaulters_data['CODE_GENDER']=='XNA')"
   ]
  },
  {
   "cell_type": "code",
   "execution_count": null,
   "metadata": {
    "scrolled": true
   },
   "outputs": [],
   "source": [
    "Target_univariate_analysis_pie('CODE_GENDER')"
   ]
  },
  {
   "cell_type": "markdown",
   "metadata": {},
   "source": [
    "#### 3. FLAG_OWN_CAR\n",
    "**Analysis:**<br>\n",
    "Here, the proporation of car holders are similar in both defaulter and non-defaulters applications however, the number of applications owning a car is less than non-defaulters"
   ]
  },
  {
   "cell_type": "code",
   "execution_count": null,
   "metadata": {},
   "outputs": [],
   "source": [
    "Target_univariate_analysis_pie('FLAG_OWN_CAR')"
   ]
  },
  {
   "cell_type": "markdown",
   "metadata": {},
   "source": [
    "#### 4. FLAG_OWN_REALTY\n",
    "**Analysis:**<br>\n",
    "Here, the proporation of reallity owners are similar in both defaulter and non-defaulters applications"
   ]
  },
  {
   "cell_type": "code",
   "execution_count": null,
   "metadata": {
    "scrolled": true
   },
   "outputs": [],
   "source": [
    "# Analysis of FLAG_OWN_REALTY\n",
    "Target_univariate_analysis_bar('FLAG_OWN_REALTY')"
   ]
  },
  {
   "cell_type": "code",
   "execution_count": null,
   "metadata": {
    "scrolled": true
   },
   "outputs": [],
   "source": [
    "Target_univariate_analysis_pie('FLAG_OWN_REALTY')"
   ]
  },
  {
   "cell_type": "markdown",
   "metadata": {},
   "source": [
    "#### 5. NAME_HOUSING_TYPE\n",
    "**Analysis:**<br>\n",
    "Here, the percentage of housing type with **House/department** in defaulters is less than non-defaulters which makes over 85% of all application in both cases"
   ]
  },
  {
   "cell_type": "code",
   "execution_count": null,
   "metadata": {
    "scrolled": true
   },
   "outputs": [],
   "source": [
    "# Analysis of NAME_TYPE_SUITE\n",
    "Target_univariate_analysis_bar('NAME_HOUSING_TYPE',True)"
   ]
  },
  {
   "cell_type": "code",
   "execution_count": null,
   "metadata": {
    "scrolled": true
   },
   "outputs": [],
   "source": [
    "# Analysis of NAME_TYPE_SUITE\n",
    "target_univariate_anlysis_pie2('NAME_HOUSING_TYPE','black',['lightblue', 'orange', 'yellow', 'blue','violet', 'grey'])"
   ]
  },
  {
   "cell_type": "markdown",
   "metadata": {},
   "source": [
    "#### 6. OCCUPATION_TYPE\n",
    "**Analysis:**<br>\n",
    "Here, the **laborers**, **sales staff** percentage is more in defaulters than non-defaulters. Conversly, the precetage of **Core Staff**, and **Managers** are more in non-defaulters than defaulters."
   ]
  },
  {
   "cell_type": "code",
   "execution_count": null,
   "metadata": {},
   "outputs": [],
   "source": [
    "# Analysis of OCCUPATION_TYPE\n",
    "Target_univariate_analysis_bar('OCCUPATION_TYPE',True)"
   ]
  },
  {
   "cell_type": "code",
   "execution_count": null,
   "metadata": {
    "scrolled": true
   },
   "outputs": [],
   "source": [
    "# Analysis of OCCUPATION_TYPE\n",
    "Target_univariate_analysis_pie('OCCUPATION_TYPE')"
   ]
  },
  {
   "cell_type": "markdown",
   "metadata": {},
   "source": [
    "#### 7. NAME_FAMILY_STATUS\n",
    "**Analysis:**<br>\n",
    "Here, the **single/**,and  **civil mariage** percentage is more in defaulters than non-defaulters. Conversly, the precetage of **Married** is more in non-defaulters than defaulters."
   ]
  },
  {
   "cell_type": "code",
   "execution_count": null,
   "metadata": {
    "scrolled": true
   },
   "outputs": [],
   "source": [
    "# Analysis of NAME_FAMILY_STATUS\n",
    "Target_univariate_analysis_pie('NAME_FAMILY_STATUS')"
   ]
  },
  {
   "cell_type": "markdown",
   "metadata": {},
   "source": [
    "#### 8. NAME_EDUCATION_TYPE\n",
    "**Analysis:**<br>\n",
    "Here, the **Seconday/secodary special** percentage is more in defaulters than non-defaulters. But, the precetage of **Higher education** holders is more in non-defaulters than defaulters."
   ]
  },
  {
   "cell_type": "code",
   "execution_count": null,
   "metadata": {
    "scrolled": false
   },
   "outputs": [],
   "source": [
    "# Analysis of NAME_EDUCATION_TYPE\n",
    "Target_univariate_analysis_pie('NAME_EDUCATION_TYPE')"
   ]
  },
  {
   "cell_type": "markdown",
   "metadata": {},
   "source": [
    "## 2. Numeric Data Analysis<br>\n",
    "List of numeric column types"
   ]
  },
  {
   "cell_type": "code",
   "execution_count": null,
   "metadata": {
    "scrolled": false
   },
   "outputs": [],
   "source": [
    "print('Total columns ={0} \\ncolumns = {1}'.format(len(finall_application_data.select_dtypes('float64').columns),finall_application_data.select_dtypes('float64').columns))\n",
    "print('Total columns ={0} \\ncolumns = {1}'.format(len(finall_application_data.select_dtypes('int64').columns),finall_application_data.select_dtypes('int64').columns))"
   ]
  },
  {
   "cell_type": "markdown",
   "metadata": {},
   "source": [
    "will analyse the following numeric columns<br>\n",
    "AMT_INCOME_TOTAL', 'AMT_CREDIT', 'AMT_ANNUITY', 'AMT_GOODS_PRICE','DAYS_EMPLOYED"
   ]
  },
  {
   "cell_type": "markdown",
   "metadata": {},
   "source": [
    "#### Create common function for ploting"
   ]
  },
  {
   "cell_type": "code",
   "execution_count": null,
   "metadata": {},
   "outputs": [],
   "source": [
    "def numeric_data_plot(x,rotate_label=False):\n",
    "    fig, (ax1, ax2) = plt.subplots(nrows=1,ncols=2, figsize=(14,5),dpi=1200)\n",
    "    \n",
    "    sns1=sns.boxplot(ax=ax1,y=non_defaulters_data[x], palette='muted')\n",
    "    ax1.set_xlabel('%s' %x)\n",
    "    ax1.set_ylabel(\"# of applications\")\n",
    "    ax1.set_title('Distribution of '+ '%s' %x +' for Non-Defaulters',  fontsize=12,fontweight=10)\n",
    "    if(rotate_label):\n",
    "        sns1.set_xticklabels(sns1.get_xticklabels(),rotation=90)\n",
    "        \n",
    "    sns2=sns.boxplot(ax=ax2,y=defaulters_data[x],palette='muted')\n",
    "    ax2.set_title('Distribution of '+ '%s' %x +' for Defaulters', fontsize=12,fontweight=10)\n",
    "    ax2.set_xlabel('%s' %x)\n",
    "    ax2.set_ylabel(\"# of applications\")\n",
    "    if(rotate_label):\n",
    "        sns2.set_xticklabels(sns2.get_xticklabels(),rotation=90)\n",
    "        \n",
    "    # remove spines from the plots\n",
    "    sns.despine(left=True, bottom=True, right=True)\n",
    "    \n",
    "    plt.show()"
   ]
  },
  {
   "cell_type": "markdown",
   "metadata": {},
   "source": [
    "**Plot** the column **AMT_INCOME_TOTAL** to find if there is any outlier"
   ]
  },
  {
   "cell_type": "code",
   "execution_count": null,
   "metadata": {
    "scrolled": true
   },
   "outputs": [],
   "source": [
    "numeric_data_plot('AMT_INCOME_TOTAL')"
   ]
  },
  {
   "cell_type": "code",
   "execution_count": null,
   "metadata": {
    "scrolled": false
   },
   "outputs": [],
   "source": [
    "# Check outlier status\n",
    "pd.set_option('display.float_format', lambda x: '%.1f' % x)\n",
    "application_train_data=finall_application_data\n",
    "application_train_data.AMT_INCOME_TOTAL.describe(percentiles=[0.05,0.10,0.25,0.50,0.75,0.80,0.90,0.95,0.99,0.9999])"
   ]
  },
  {
   "cell_type": "code",
   "execution_count": null,
   "metadata": {},
   "outputs": [],
   "source": [
    "application_train_data.shape"
   ]
  },
  {
   "cell_type": "markdown",
   "metadata": {},
   "source": [
    "We clearly see there is outlier at the percentale of 95%% so we will remove it from analysis"
   ]
  },
  {
   "cell_type": "code",
   "execution_count": null,
   "metadata": {},
   "outputs": [],
   "source": [
    "# Removing all entries above 95 percentile\n",
    "application_train_data=application_train_data[application_train_data.AMT_INCOME_TOTAL<np.nanpercentile(application_train_data['AMT_INCOME_TOTAL'], 95)]"
   ]
  },
  {
   "cell_type": "code",
   "execution_count": null,
   "metadata": {},
   "outputs": [],
   "source": [
    "# update the dataframes\n",
    "defaulters_data=application_train_data[application_train_data.TARGET==1] \n",
    "non_defaulters_data=application_train_data[application_train_data.TARGET==0]"
   ]
  },
  {
   "cell_type": "code",
   "execution_count": null,
   "metadata": {},
   "outputs": [],
   "source": [
    "def custom_histogram(x):\n",
    "    plt.figure(figsize=(15,5))\n",
    "    ax1=plt.subplot(1,2,1)\n",
    "    plt.hist(non_defaulters_data[x],edgecolor='black')\n",
    "    ax1.set_title('Distribution of '+ '%s' %x +' for Non-Defaulters', fontsize=12,fontweight=10)\n",
    "    ax2=plt.subplot(1,2,2)\n",
    "    plt.hist(defaulters_data[x],edgecolor='black')\n",
    "    ax2.set_title('Distribution of '+ '%s' %x +' for Defaulters', fontsize=12,fontweight=10)"
   ]
  },
  {
   "cell_type": "code",
   "execution_count": null,
   "metadata": {
    "scrolled": true
   },
   "outputs": [],
   "source": [
    "numeric_data_plot('AMT_INCOME_TOTAL')"
   ]
  },
  {
   "cell_type": "code",
   "execution_count": null,
   "metadata": {},
   "outputs": [],
   "source": [
    "custom_histogram('AMT_INCOME_TOTAL')"
   ]
  },
  {
   "cell_type": "markdown",
   "metadata": {},
   "source": [
    "**Analysis:** <br> \n",
    "\n",
    "In both non-defaulters and defaulters, majority of loans are given between 90000 and 200000. <br>\n",
    "The majority of loans in both defaulters and non-defaulters between 50th and 75th percentile \n"
   ]
  },
  {
   "cell_type": "markdown",
   "metadata": {},
   "source": [
    "#### 2. AMT_CREDIT\n"
   ]
  },
  {
   "cell_type": "code",
   "execution_count": null,
   "metadata": {
    "scrolled": true
   },
   "outputs": [],
   "source": [
    "numeric_data_plot('AMT_CREDIT')"
   ]
  },
  {
   "cell_type": "markdown",
   "metadata": {},
   "source": [
    "Clearly there is outlier in the amount credited for applications <br>\n",
    "**Following, we need to treat view and treet outliers**"
   ]
  },
  {
   "cell_type": "code",
   "execution_count": null,
   "metadata": {},
   "outputs": [],
   "source": [
    "# view outlier status\n",
    "pd.set_option('display.float_format', lambda x: '%.1f' % x)\n",
    "application_train_data.AMT_CREDIT.describe(percentiles=[0.05,0.10,0.25,0.50,0.75,0.80,0.90,0.95,0.99,0.9999])"
   ]
  },
  {
   "cell_type": "code",
   "execution_count": null,
   "metadata": {
    "scrolled": true
   },
   "outputs": [],
   "source": [
    "# Removing all entries above 99.99 percentile\n",
    "application_train_data=application_train_data[application_train_data.AMT_CREDIT<np.nanpercentile(application_train_data['AMT_CREDIT'],99)]\n",
    "\n",
    "# update the dataframes\n",
    "defaulters_data=application_train_data[application_train_data.TARGET==1] \n",
    "non_defaulters_data=application_train_data[application_train_data.TARGET==0]\n",
    "\n",
    "numeric_data_plot('AMT_CREDIT')\n"
   ]
  },
  {
   "cell_type": "code",
   "execution_count": null,
   "metadata": {},
   "outputs": [],
   "source": [
    "custom_histogram('AMT_CREDIT')"
   ]
  },
  {
   "cell_type": "markdown",
   "metadata": {},
   "source": [
    "**Analysis:** <br> \n",
    "We see that the CREDIT amount lies in the range of 250000 and 750000 for non defaulters and defaulter ranges between 200000 to 800000"
   ]
  },
  {
   "cell_type": "markdown",
   "metadata": {},
   "source": [
    "#### 3. AMT_ANNUITY\n"
   ]
  },
  {
   "cell_type": "code",
   "execution_count": null,
   "metadata": {
    "scrolled": false
   },
   "outputs": [],
   "source": [
    "numeric_data_plot('AMT_ANNUITY')"
   ]
  },
  {
   "cell_type": "code",
   "execution_count": null,
   "metadata": {},
   "outputs": [],
   "source": [
    "# Removing all entries above 99 percentile\n",
    "application_train_data=application_train_data[application_train_data.AMT_ANNUITY<np.nanpercentile(application_train_data['AMT_ANNUITY'],99)]\n",
    "\n",
    "# update the dataframes\n",
    "defaulters_data=application_train_data[application_train_data.TARGET==1] \n",
    "non_defaulters_data=application_train_data[application_train_data.TARGET==0]\n",
    "\n",
    "numeric_data_plot('AMT_ANNUITY')"
   ]
  },
  {
   "cell_type": "code",
   "execution_count": null,
   "metadata": {
    "scrolled": false
   },
   "outputs": [],
   "source": [
    "custom_histogram('AMT_ANNUITY')"
   ]
  },
  {
   "cell_type": "markdown",
   "metadata": {},
   "source": [
    "**Analysis:** <br> \n",
    "No special differences between defaulters and non-defaulters in AMT_ANNUITY"
   ]
  },
  {
   "cell_type": "markdown",
   "metadata": {},
   "source": [
    "## Binning contineous variables"
   ]
  },
  {
   "cell_type": "markdown",
   "metadata": {},
   "source": [
    "#### 1. AMT_INCOME_TOTAL"
   ]
  },
  {
   "cell_type": "code",
   "execution_count": null,
   "metadata": {
    "scrolled": true
   },
   "outputs": [],
   "source": [
    "application_train_data['AMT_INCOME_TOTAL'].describe()"
   ]
  },
  {
   "cell_type": "code",
   "execution_count": null,
   "metadata": {
    "scrolled": true
   },
   "outputs": [],
   "source": [
    "# Creating bins of income bracket and specifying ceratin labels to them using pd.qcut\n",
    "\n",
    "defaulters_data['AMT_INCOME_TOTAL_BINS'] = pd.qcut(application_train_data['AMT_INCOME_TOTAL'],q=[0,0.10,0.35,0.50,0.90,1], labels=['Lowest','Low','Medium','High','Highest']).copy()\n",
    "non_defaulters_data['AMT_INCOME_TOTAL_BINS'] = pd.qcut(application_train_data['AMT_INCOME_TOTAL'],q=[0,0.10,0.35,0.50,0.90,1], labels=['Lowest','Low','Medium','High','Highest']).copy()\n"
   ]
  },
  {
   "cell_type": "code",
   "execution_count": null,
   "metadata": {},
   "outputs": [],
   "source": [
    "Target_univariate_analysis_bar('AMT_INCOME_TOTAL_BINS')"
   ]
  },
  {
   "cell_type": "code",
   "execution_count": null,
   "metadata": {
    "scrolled": true
   },
   "outputs": [],
   "source": [
    "target_univariate_anlysis_pie2('AMT_INCOME_TOTAL_BINS','black',['blue','orange','green','grey','purple'])"
   ]
  },
  {
   "cell_type": "markdown",
   "metadata": {},
   "source": [
    "**Analysis:**<br>\n",
    "No clear difference between defaulters and non-defaulters**"
   ]
  },
  {
   "cell_type": "markdown",
   "metadata": {},
   "source": [
    "#### 2. AMT_ANNUITY"
   ]
  },
  {
   "cell_type": "code",
   "execution_count": null,
   "metadata": {
    "scrolled": false
   },
   "outputs": [],
   "source": [
    "# Creating bins of income bracket and specifying ceratin labels to them using pd.qcut\n",
    "\n",
    "defaulters_data['AMT_ANNUITY_BINS'] = pd.qcut(application_train_data['AMT_ANNUITY'],q=[0,0.10,0.35,0.50,0.90,1], labels=['Lowest','Low','Medium','High','Highest']).copy()\n",
    "non_defaulters_data['AMT_ANNUITY_BINS'] = pd.qcut(application_train_data['AMT_ANNUITY'],q=[0,0.10,0.35,0.50,0.90,1], labels=['Lowest','Low','Medium','High','Highest']).copy()\n"
   ]
  },
  {
   "cell_type": "code",
   "execution_count": null,
   "metadata": {
    "scrolled": true
   },
   "outputs": [],
   "source": [
    "Target_univariate_analysis_bar('AMT_ANNUITY_BINS')"
   ]
  },
  {
   "cell_type": "code",
   "execution_count": null,
   "metadata": {
    "scrolled": true
   },
   "outputs": [],
   "source": [
    "target_univariate_anlysis_pie2('AMT_ANNUITY_BINS','black',['blue','orange','green','grey','purple'])"
   ]
  },
  {
   "cell_type": "markdown",
   "metadata": {},
   "source": [
    "**Analysis:**<br>\n",
    "About **44%** of defaulters have high annuity value that lies between 50th to 90th percentile"
   ]
  },
  {
   "cell_type": "markdown",
   "metadata": {},
   "source": [
    "## Bi-Variate Analysis"
   ]
  },
  {
   "cell_type": "code",
   "execution_count": null,
   "metadata": {
    "scrolled": true
   },
   "outputs": [],
   "source": [
    "non_defaulters_data.select_dtypes('int64').columns"
   ]
  },
  {
   "cell_type": "code",
   "execution_count": null,
   "metadata": {},
   "outputs": [],
   "source": [
    "non_defaulters_data.select_dtypes('float64').columns"
   ]
  },
  {
   "cell_type": "code",
   "execution_count": null,
   "metadata": {},
   "outputs": [],
   "source": [
    "# Columsn to do fo analysis\n",
    "\n",
    "bivar_cols=['AMT_INCOME_TOTAL', 'AMT_CREDIT', 'AMT_ANNUITY', 'AMT_GOODS_PRICE',\n",
    "       'REGION_POPULATION_RELATIVE', 'CNT_FAM_MEMBERS',\n",
    "       'EXT_SOURCE_2', 'CNT_CHILDREN','REGION_RATING_CLIENT',\n",
    "       'DAYS_LAST_PHONE_CHANGE','AMT_REQ_CREDIT_BUREAU_DAY', 'DAYS_EMPLOYED','REGION_RATING_CLIENT_W_CITY']"
   ]
  },
  {
   "cell_type": "code",
   "execution_count": null,
   "metadata": {
    "scrolled": true
   },
   "outputs": [],
   "source": [
    "bivar_non_defaulters=non_defaulters_data[bivar_cols]\n",
    "bivar_non_defaulters_correlation = bivar_non_defaulters.corr()\n",
    "\n",
    "bivar_non_defaulters_correlation"
   ]
  },
  {
   "cell_type": "code",
   "execution_count": null,
   "metadata": {
    "scrolled": false
   },
   "outputs": [],
   "source": [
    "# figure size\n",
    "plt.figure(figsize=(30,20))\n",
    "\n",
    "# plot\n",
    "sns.heatmap(bivar_non_defaulters_correlation, annot=True,linewidths=0.10 , annot_kws={\"size\": 10},cbar=True,square=True)\n",
    "plt.show()"
   ]
  },
  {
   "cell_type": "code",
   "execution_count": null,
   "metadata": {
    "scrolled": true
   },
   "outputs": [],
   "source": [
    "new_corr=bivar_non_defaulters_correlation.unstack().reset_index()\n",
    "new_corr.columns=['Var1','Var2','CORR']\n",
    "new_corr=new_corr[new_corr['Var1']!=new_corr['Var2']]\n",
    "new_corr.sort_values('CORR',ascending=False).round(3)"
   ]
  },
  {
   "cell_type": "code",
   "execution_count": null,
   "metadata": {
    "scrolled": false
   },
   "outputs": [],
   "source": [
    "print(new_corr.sort_values(by='CORR',ascending=False).head(6))\n",
    "print(new_corr.sort_values(by='CORR',ascending=False).tail(6))"
   ]
  },
  {
   "cell_type": "markdown",
   "metadata": {},
   "source": [
    "### Top 6 positive correlation\n",
    "1.  AMT_GOODS_PRICE vs AMT_CREDIT \n",
    "2.  REGION_RATING_CLIENT_W_CITY vs  REGION_RATING_CLIENT\n",
    "3.  CNT_CHILDREN vs CNT_FAM_MEMBERS   0.9\n",
    "4.  REGION_RATING_CLIENT vs REGION_POPULATION_RELATIVE\n",
    "5.  AMT_ANNUITY vs AMT_CREDIT\n",
    "6.  AMT_GOODS_PRICE vs AMT_ANNUITY  \n",
    "\n",
    "### Bottom 6 negative correlation\n",
    "6. CNT_CHILDREN         vs         AMT_CREDIT  \n",
    "5. AMT_REQ_CREDIT_BUREAU_DAY       vs         EXT_SOURCE_2  \n",
    "4. AMT_REQ_CREDIT_BUREAU_DAY        vs        CNT_CHILDREN  \n",
    "3. DAYS_EMPLOYED vs  AMT_REQ_CREDIT_BUREAU_DAY  \n",
    "2. AMT_REQ_CREDIT_BUREAU_DAY       vs      CNT_FAM_MEMBERS   \n",
    "1. DAYS_EMPLOYED vs  REGION_POPULATION_RELATIVE   "
   ]
  },
  {
   "cell_type": "code",
   "execution_count": null,
   "metadata": {},
   "outputs": [],
   "source": [
    "\n",
    "bivar_defaulters=defaulters_data[bivar_cols]\n",
    "bivar_defaulters_correlation = bivar_defaulters.corr()"
   ]
  },
  {
   "cell_type": "code",
   "execution_count": null,
   "metadata": {},
   "outputs": [],
   "source": [
    "# figure size\n",
    "plt.figure(figsize=(30,20))\n",
    "\n",
    "# plot\n",
    "sns.heatmap(bivar_defaulters_correlation, annot=True,linewidths=0.10 , annot_kws={\"size\": 10},cbar=True,square=True)\n",
    "plt.show()"
   ]
  },
  {
   "cell_type": "code",
   "execution_count": null,
   "metadata": {
    "scrolled": false
   },
   "outputs": [],
   "source": [
    "new_corrd=bivar_defaulters_correlation.unstack().reset_index()\n",
    "new_corrd.columns=['Var1','Var2','CORR']\n",
    "new_corrd=new_corrd[new_corrd['Var1']!=new_corrd['Var2']]\n",
    "new_corrd.sort_values('CORR',ascending=False).head(20)"
   ]
  },
  {
   "cell_type": "code",
   "execution_count": null,
   "metadata": {
    "scrolled": true
   },
   "outputs": [],
   "source": [
    "print(new_corr.sort_values(by='CORR',ascending=False).head(6))\n",
    "print(new_corr.sort_values(by='CORR',ascending=False).tail(6))"
   ]
  },
  {
   "cell_type": "markdown",
   "metadata": {},
   "source": [
    "### Top 6 positive correlation\n",
    "1.  AMT_GOODS_PRICE vs AMT_CREDIT \n",
    "2.  REGION_RATING_CLIENT_W_CITY vs  REGION_RATING_CLIENT\n",
    "3.  CNT_CHILDREN vs CNT_FAM_MEMBERS   \n",
    "4.  AMT_ANNUITY vs AMT_CREDIT\n",
    "5.  AMT_GOODS_PRICE vs AMT_ANNUITY \n",
    "6.  REGION_RATING_CLIENT vs REGION_POPULATION_RELATIVE\n",
    " \n",
    "\n",
    "### Bottom 6 negative correlation\n",
    "6. CNT_CHILDREN         vs         AMT_CREDIT  \n",
    "5. AMT_REQ_CREDIT_BUREAU_DAY       vs         EXT_SOURCE_2  \n",
    "4. AMT_REQ_CREDIT_BUREAU_DAY        vs        CNT_CHILDREN  \n",
    "3. DAYS_EMPLOYED vs  AMT_REQ_CREDIT_BUREAU_DAY  \n",
    "2. AMT_REQ_CREDIT_BUREAU_DAY       vs      CNT_FAM_MEMBERS   \n",
    "1. DAYS_EMPLOYED vs  REGION_POPULATION_RELATIVE   "
   ]
  },
  {
   "cell_type": "markdown",
   "metadata": {},
   "source": [
    "# Analysis of Previous Application Data"
   ]
  },
  {
   "cell_type": "markdown",
   "metadata": {},
   "source": [
    "#### 1. Generate new Data Frame and include only ```SK_ID_CURR``` and ```TARGET``` variables"
   ]
  },
  {
   "cell_type": "code",
   "execution_count": null,
   "metadata": {
    "scrolled": false
   },
   "outputs": [],
   "source": [
    "new_app_data=application_train[['SK_ID_CURR','TARGET']]\n",
    "new_app_data.shape"
   ]
  },
  {
   "cell_type": "markdown",
   "metadata": {},
   "source": [
    "#### 2. Generate Data Frame for previous application\n",
    "##### Read data from file"
   ]
  },
  {
   "cell_type": "code",
   "execution_count": null,
   "metadata": {},
   "outputs": [],
   "source": [
    "previous_app_data=pd.read_csv(path+'/previous_application.csv')"
   ]
  },
  {
   "cell_type": "code",
   "execution_count": null,
   "metadata": {},
   "outputs": [],
   "source": [
    "previous_app_data.shape"
   ]
  },
  {
   "cell_type": "code",
   "execution_count": null,
   "metadata": {
    "scrolled": false
   },
   "outputs": [],
   "source": [
    "previous_app_data.head()"
   ]
  },
  {
   "cell_type": "code",
   "execution_count": null,
   "metadata": {},
   "outputs": [],
   "source": [
    "pd.set_option('display.max_rows', previous_app_data.shape[0]+1)\n",
    "\n",
    "#calcualte nulls, percent of nulls,data type,unique,total records, etc\n",
    "previous_app_data_info=previous_app_data.agg(['count','nunique']).T\n",
    "previous_app_data_info['nulls']=previous_app_data.isnull().sum()\n",
    "previous_app_data_info['percent']=(100*previous_app_data.isnull().sum())/len(previous_app_data)\n",
    "previous_app_data_info['datatype']=previous_app_data.dtypes"
   ]
  },
  {
   "cell_type": "code",
   "execution_count": null,
   "metadata": {},
   "outputs": [],
   "source": [
    "previous_app_data_info"
   ]
  },
  {
   "cell_type": "code",
   "execution_count": null,
   "metadata": {
    "scrolled": true
   },
   "outputs": [],
   "source": [
    "# Exclude columns with over 25% null\n",
    "previous_app_data_info=previous_app_data_info[previous_app_data_info['percent']<26]\n",
    "previous_app_data_info.shape[0]"
   ]
  },
  {
   "cell_type": "code",
   "execution_count": null,
   "metadata": {},
   "outputs": [],
   "source": [
    "list(previous_app_data_info.index)"
   ]
  },
  {
   "cell_type": "code",
   "execution_count": null,
   "metadata": {},
   "outputs": [],
   "source": [
    "previous_app_data=previous_app_data[list(previous_app_data_info.index)]\n",
    "previous_app_data.head()"
   ]
  },
  {
   "cell_type": "markdown",
   "metadata": {},
   "source": [
    "**We will not do any further data cleaning and suffice with this**"
   ]
  },
  {
   "cell_type": "markdown",
   "metadata": {},
   "source": [
    "### Merge both data file to new one using ```SK_ID_CURR``` key"
   ]
  },
  {
   "cell_type": "code",
   "execution_count": null,
   "metadata": {},
   "outputs": [],
   "source": [
    "merged_app_data=pd.merge(new_app_data,previous_app_data,how='inner',on='SK_ID_CURR')"
   ]
  },
  {
   "cell_type": "code",
   "execution_count": null,
   "metadata": {
    "scrolled": false
   },
   "outputs": [],
   "source": [
    "merged_app_data.shape"
   ]
  },
  {
   "cell_type": "markdown",
   "metadata": {},
   "source": [
    "# Analysis"
   ]
  },
  {
   "cell_type": "markdown",
   "metadata": {},
   "source": [
    "## 1. Univariate analysis"
   ]
  },
  {
   "cell_type": "code",
   "execution_count": null,
   "metadata": {
    "scrolled": true
   },
   "outputs": [],
   "source": [
    "# columns\n",
    "merged_app_data.columns"
   ]
  },
  {
   "cell_type": "markdown",
   "metadata": {},
   "source": [
    "**1. HOUR_APPR_PROCESS_START**"
   ]
  },
  {
   "cell_type": "code",
   "execution_count": null,
   "metadata": {
    "scrolled": false
   },
   "outputs": [],
   "source": [
    "# Which hour did the client application started application\n",
    "plt.figure(figsize=(8,6))\n",
    "sns.distplot(merged_app_data['HOUR_APPR_PROCESS_START'], hist=True, kde=False,bins=15, color = 'green', hist_kws={'edgecolor':'black'})\n",
    "plt.title('Which hours client applied',pad=20,fontsize=14,color='black');"
   ]
  },
  {
   "cell_type": "code",
   "execution_count": null,
   "metadata": {},
   "outputs": [],
   "source": [
    "# separate for TARGET defaulter and non-defaulters\n",
    "defaulters_data=merged_app_data[merged_app_data.TARGET==1] \n",
    "non_defaulters_data=merged_app_data[merged_app_data.TARGET==0]"
   ]
  },
  {
   "cell_type": "code",
   "execution_count": null,
   "metadata": {
    "scrolled": false
   },
   "outputs": [],
   "source": [
    "custom_histogram('HOUR_APPR_PROCESS_START')"
   ]
  },
  {
   "cell_type": "markdown",
   "metadata": {},
   "source": [
    "**Insights :** <br/>\n",
    "Most of the applications are processed during 10AM to 4PM"
   ]
  },
  {
   "cell_type": "code",
   "execution_count": null,
   "metadata": {},
   "outputs": [],
   "source": [
    "#custom function for creating pie plot\n",
    "def target_univariate_anlysis_pie2_single(x,fontcolor,plot_title,colors=[]):\n",
    "    plt.figure(figsize=(10,10),dpi=150)\n",
    "    merged_app_data2=list(merged_app_data[x].value_counts())    \n",
    "    labels_non_defaulters=list(merged_app_data[x].value_counts().index)\n",
    "    ax1 = plt.subplot2grid((2,2),(0,0))\n",
    "\n",
    "    plt.pie(merged_app_data2,labels=labels_non_defaulters,autopct='%1.1f%%', shadow=False,textprops={'fontsize':8,'color':fontcolor},colors=colors)\n",
    "    plt.title(plot_title ,pad=10,fontsize=10,color='black')\n",
    "    \n",
    "    plt.show()"
   ]
  },
  {
   "cell_type": "markdown",
   "metadata": {},
   "source": [
    "**2. WEEKDAY_APPR_PROCESS_START**"
   ]
  },
  {
   "cell_type": "code",
   "execution_count": null,
   "metadata": {
    "scrolled": false
   },
   "outputs": [],
   "source": [
    "merged_app_data['WEEKDAY_APPR_PROCESS_START'].unique()"
   ]
  },
  {
   "cell_type": "markdown",
   "metadata": {},
   "source": [
    "**3. PRODUCT_COMBINATION**"
   ]
  },
  {
   "cell_type": "code",
   "execution_count": null,
   "metadata": {
    "scrolled": false
   },
   "outputs": [],
   "source": [
    "target_univariate_anlysis_pie2_single('PRODUCT_COMBINATION','black','Weekday daily application process',['lightgreen', 'gold', 'yellow', 'lightblue', 'grey', 'indigo', 'violet'])"
   ]
  },
  {
   "cell_type": "markdown",
   "metadata": {},
   "source": [
    "**Analys**:<br/>\n",
    "**Cash**, **POS household with interest**, and **POS mobile with interest** are the top 3 products combination for previous loan applications"
   ]
  },
  {
   "cell_type": "code",
   "execution_count": null,
   "metadata": {},
   "outputs": [],
   "source": [
    "Target_univariate_analysis_pie('WEEKDAY_APPR_PROCESS_START')"
   ]
  },
  {
   "cell_type": "markdown",
   "metadata": {},
   "source": [
    "**Analysis**<br>\n",
    "Most of the previsous applications are processed between on Fridays, Mondays, Tuesdays and Wednesdays. While alot of applications are also processed on weekends like Sat and Sun<br>\n",
    "When separating by defaulter and non-defaulter no significant difference found"
   ]
  },
  {
   "cell_type": "code",
   "execution_count": null,
   "metadata": {
    "scrolled": true
   },
   "outputs": [],
   "source": [
    "target_univariate_anlysis_pie2_single('NAME_CONTRACT_STATUS','black','Previous application contract status',['magenta','steelblue','orange','olive'])"
   ]
  },
  {
   "cell_type": "code",
   "execution_count": null,
   "metadata": {
    "scrolled": false
   },
   "outputs": [],
   "source": [
    "Target_univariate_analysis_pie('NAME_CONTRACT_STATUS')"
   ]
  },
  {
   "cell_type": "markdown",
   "metadata": {},
   "source": [
    "**Analys**:<br/>\n",
    "**Fewer percentage approved while hiher percetage cancelled comparing to non-defaulters in previous application**  "
   ]
  },
  {
   "cell_type": "markdown",
   "metadata": {},
   "source": [
    "**4. CHANNEL_TYPE**"
   ]
  },
  {
   "cell_type": "markdown",
   "metadata": {},
   "source": [
    "# Bivariate analaysis"
   ]
  },
  {
   "cell_type": "code",
   "execution_count": null,
   "metadata": {
    "scrolled": true
   },
   "outputs": [],
   "source": [
    "plt.figure(figsize=(15, 8))\n",
    "ax = sns.boxplot(x = 'NAME_CONTRACT_TYPE' , y = 'AMT_APPLICATION',hue = 'NAME_CONTRACT_STATUS',\n",
    "                 data = merged_app_data,palette='rainbow')\n",
    "# use log \n",
    "ax.set_yscale('log')"
   ]
  },
  {
   "cell_type": "code",
   "execution_count": null,
   "metadata": {},
   "outputs": [],
   "source": [
    "plt.figure(figsize=(15, 8))\n",
    "ax = sns.boxplot(x = 'TARGET' , y = 'AMT_APPLICATION',hue = 'NAME_CONTRACT_STATUS',\n",
    "                 data = merged_app_data,palette='rainbow')\n",
    "# use log \n",
    "ax.set_yscale('log')"
   ]
  },
  {
   "cell_type": "markdown",
   "metadata": {},
   "source": [
    "**Analysis:**<br/>\n",
    "**Cash Loans** refusals are more when compared with other loans.<br>\n",
    "No **Unused offer** reported in **Cash loans** and **Revolving loans**.<br>\n",
    "There are no **cancellation** reported "
   ]
  },
  {
   "cell_type": "markdown",
   "metadata": {},
   "source": [
    "**Analysis**<br>\n",
    "Here, it shows a positive correlation between AMT_CREDIT and AMT_APPLICATION"
   ]
  },
  {
   "cell_type": "code",
   "execution_count": null,
   "metadata": {
    "scrolled": true
   },
   "outputs": [],
   "source": [
    "#Channel wise analysis of amout of application\n",
    "plt.figure(figsize=(15,8))\n",
    "g1 = sns.barplot(x = 'CHANNEL_TYPE', y = 'AMT_APPLICATION', data = merged_app_data,estimator = np.sum)\n",
    "plt.title('Channelwise Client',pad=10,fontsize=18,color='black')\n",
    "plt.xticks(horizontalalignment='right',rotation=45);"
   ]
  },
  {
   "cell_type": "markdown",
   "metadata": {},
   "source": [
    "**Analysis :** <br/>\n",
    "Considering the sum of application amount,credit and cash offices had the highest amount in total"
   ]
  },
  {
   "cell_type": "code",
   "execution_count": null,
   "metadata": {
    "scrolled": true
   },
   "outputs": [],
   "source": [
    "plt.figure(figsize=(15, 8))\n",
    "sns.barplot(x = 'AMT_CREDIT' , y = 'NAME_CLIENT_TYPE',data = merged_app_data)\n",
    "plt.title(\"Credit amount distribution for client type\",pad=10,fontsize=18,color='black');"
   ]
  },
  {
   "cell_type": "markdown",
   "metadata": {},
   "source": [
    "**Analysis :**<br> \n",
    "Alot of people have difficulties to get loans due to insufficient credit histories. From above it is seen that old clients are the more favored above others to provide loans by the loan comapnies.<br/>\n",
    "Loans are also given to customers whose data is not available with the Loan companies(Client Type=XNA). This could be a FRAUD or some error in capturing client information through th system. It is necessary that loan companies capture full and complete information for each client."
   ]
  },
  {
   "cell_type": "markdown",
   "metadata": {},
   "source": [
    "## Finding correlation"
   ]
  },
  {
   "cell_type": "code",
   "execution_count": null,
   "metadata": {
    "scrolled": true
   },
   "outputs": [],
   "source": [
    "# usign scatter plot to show relationship of AMT CREDIT and AMT Application\n",
    "plt.figure(figsize=(15, 8))\n",
    "sns.scatterplot(x=merged_app_data['AMT_CREDIT'], y=merged_app_data['AMT_APPLICATION'])\n",
    "plt.title(\"Relationship of amout of Credit and Application\")\n",
    "plt.show()"
   ]
  },
  {
   "cell_type": "markdown",
   "metadata": {},
   "source": [
    "**columns to find correlation between them**"
   ]
  },
  {
   "cell_type": "code",
   "execution_count": null,
   "metadata": {},
   "outputs": [],
   "source": [
    "merged_app_data.select_dtypes('int64').columns"
   ]
  },
  {
   "cell_type": "code",
   "execution_count": null,
   "metadata": {},
   "outputs": [],
   "source": [
    "merged_app_data.select_dtypes('float64').columns"
   ]
  },
  {
   "cell_type": "code",
   "execution_count": null,
   "metadata": {},
   "outputs": [],
   "source": [
    "cols=['WEEKDAY_APPR_PROCESS_START','AMT_APPLICATION','AMT_CREDIT','NFLAG_LAST_APPL_IN_DAY',\n",
    "      'DAYS_DECISION', 'SELLERPLACE_AREA','AMT_ANNUITY','AMT_GOODS_PRICE','CNT_PAYMENT']"
   ]
  },
  {
   "cell_type": "code",
   "execution_count": null,
   "metadata": {},
   "outputs": [],
   "source": [
    "merged_app_data=merged_app_data[cols]\n",
    "merged_app_data_corr=merged_app_data.corr()"
   ]
  },
  {
   "cell_type": "code",
   "execution_count": null,
   "metadata": {
    "scrolled": true
   },
   "outputs": [],
   "source": [
    "# figure size\n",
    "plt.figure(figsize=(30,20))\n",
    "\n",
    "# plot\n",
    "sns.heatmap(merged_app_data_corr, annot=True,linewidths=0.10 , annot_kws={\"size\": 10},cbar=True,square=True)\n",
    "plt.show()"
   ]
  },
  {
   "cell_type": "code",
   "execution_count": null,
   "metadata": {
    "scrolled": true
   },
   "outputs": [],
   "source": [
    "new_cormat=merged_app_data_corr\n",
    "corr=new_cormat.where(np.triu(np.ones(new_cormat.shape),k=1).astype(np.bool))\n",
    "corr=corr.abs().unstack().reset_index()\n",
    "corr.columns=['Var1','Var2','CORR']\n",
    "corr.dropna(subset=['CORR'],inplace=True)\n",
    "corr.sort_values('CORR',ascending=False).head(20)\n",
    "# new_corrdp=new_corrd[new_corrdp['Var1']!=new_corrdp['Var2']]\n"
   ]
  },
  {
   "cell_type": "markdown",
   "metadata": {},
   "source": [
    "**Analysis:**<br>\n",
    "**Following is top 4 and bottom 4 correlated variables**"
   ]
  },
  {
   "cell_type": "code",
   "execution_count": null,
   "metadata": {
    "scrolled": true
   },
   "outputs": [],
   "source": [
    "print(new_corr.sort_values(by='CORR',ascending=False).head(6))\n",
    "print(new_corr.sort_values(by='CORR',ascending=False).tail(6))"
   ]
  },
  {
   "cell_type": "markdown",
   "metadata": {},
   "source": [
    "Loan Amount requested by client orignally and final credit loan ammount on the previous application given to the client are highly correlated as seen from above scatter and heat maps. This means the loan companies are providing almost closest amount of for which the client has made an initial request for. \n",
    "<br/>We have already seen earlier that consumer loans are the more offered than other loans "
   ]
  },
  {
   "cell_type": "markdown",
   "metadata": {},
   "source": [
    "# THE END"
   ]
  }
 ],
 "metadata": {
  "kernelspec": {
   "display_name": "Python 3 (ipykernel)",
   "language": "python",
   "name": "python3"
  },
  "language_info": {
   "codemirror_mode": {
    "name": "ipython",
    "version": 3
   },
   "file_extension": ".py",
   "mimetype": "text/x-python",
   "name": "python",
   "nbconvert_exporter": "python",
   "pygments_lexer": "ipython3",
   "version": "3.9.7"
  }
 },
 "nbformat": 4,
 "nbformat_minor": 2
}
